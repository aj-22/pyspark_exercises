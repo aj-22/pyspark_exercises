{
 "cells": [
  {
   "cell_type": "markdown",
   "metadata": {},
   "source": [
    "# Ex2 - Getting and Knowing your Data"
   ]
  },
  {
   "cell_type": "markdown",
   "metadata": {},
   "source": [
    "This time we are going to pull data directly from the internet.\n",
    "Special thanks to: https://github.com/justmarkham for sharing the dataset and materials.\n",
    "\n",
    "### Step 1. Import the necessary libraries"
   ]
  },
  {
   "cell_type": "code",
   "execution_count": 1,
   "metadata": {},
   "outputs": [],
   "source": [
    "from pyspark.sql import SparkSession\n",
    "\n",
    "spark = SparkSession.builder.appName(\"Chipotle\").getOrCreate()\n",
    "sc = spark.sparkContext"
   ]
  },
  {
   "cell_type": "markdown",
   "metadata": {},
   "source": [
    "### Step 2. Import the dataset from this [address](https://raw.githubusercontent.com/justmarkham/DAT8/master/data/chipotle.tsv). "
   ]
  },
  {
   "cell_type": "markdown",
   "metadata": {},
   "source": [
    "### Step 3. Assign it to a variable called chipo."
   ]
  },
  {
   "cell_type": "code",
   "execution_count": 2,
   "metadata": {},
   "outputs": [],
   "source": [
    "from pyspark import SparkFiles\n",
    "\n",
    "#data_path = r\"https://raw.githubusercontent.com/justmarkham/DAT8/master/data/chipotle.tsv\"\n",
    "#sc.addFile(data_path)\n",
    "\n",
    "#chipo = spark.read.option(\"delimiter\",\"\\t\").csv(\"file:///\"+SparkFiles.get(\"chiptole.tsv\"), header = True, inferSchema=True)\n",
    "\n",
    "chipo = spark.read.option(\"delimiter\",\"\\t\").csv(\"chipotle.tsv\", header = True, inferSchema = True)"
   ]
  },
  {
   "cell_type": "markdown",
   "metadata": {},
   "source": [
    "### Step 4. See the first 10 entries"
   ]
  },
  {
   "cell_type": "code",
   "execution_count": 3,
   "metadata": {
    "scrolled": false
   },
   "outputs": [
    {
     "data": {
      "text/plain": [
       "[Row(order_id=1, quantity=1, item_name='Chips and Fresh Tomato Salsa', choice_description='NULL', item_price='$2.39 '),\n",
       " Row(order_id=1, quantity=1, item_name='Izze', choice_description='[Clementine]', item_price='$3.39 '),\n",
       " Row(order_id=1, quantity=1, item_name='Nantucket Nectar', choice_description='[Apple]', item_price='$3.39 '),\n",
       " Row(order_id=1, quantity=1, item_name='Chips and Tomatillo-Green Chili Salsa', choice_description='NULL', item_price='$2.39 '),\n",
       " Row(order_id=2, quantity=2, item_name='Chicken Bowl', choice_description='[Tomatillo-Red Chili Salsa (Hot), [Black Beans, Rice, Cheese, Sour Cream]]', item_price='$16.98 '),\n",
       " Row(order_id=3, quantity=1, item_name='Chicken Bowl', choice_description='[Fresh Tomato Salsa (Mild), [Rice, Cheese, Sour Cream, Guacamole, Lettuce]]', item_price='$10.98 '),\n",
       " Row(order_id=3, quantity=1, item_name='Side of Chips', choice_description='NULL', item_price='$1.69 '),\n",
       " Row(order_id=4, quantity=1, item_name='Steak Burrito', choice_description='[Tomatillo Red Chili Salsa, [Fajita Vegetables, Black Beans, Pinto Beans, Cheese, Sour Cream, Guacamole, Lettuce]]', item_price='$11.75 '),\n",
       " Row(order_id=4, quantity=1, item_name='Steak Soft Tacos', choice_description='[Tomatillo Green Chili Salsa, [Pinto Beans, Cheese, Sour Cream, Lettuce]]', item_price='$9.25 '),\n",
       " Row(order_id=5, quantity=1, item_name='Steak Burrito', choice_description='[Fresh Tomato Salsa, [Rice, Black Beans, Pinto Beans, Cheese, Sour Cream, Lettuce]]', item_price='$9.25 ')]"
      ]
     },
     "execution_count": 3,
     "metadata": {},
     "output_type": "execute_result"
    }
   ],
   "source": [
    "chipo.take(10)"
   ]
  },
  {
   "cell_type": "markdown",
   "metadata": {},
   "source": [
    "### Step 5. What is the number of observations in the dataset?"
   ]
  },
  {
   "cell_type": "code",
   "execution_count": 4,
   "metadata": {},
   "outputs": [
    {
     "data": {
      "text/plain": [
       "4622"
      ]
     },
     "execution_count": 4,
     "metadata": {},
     "output_type": "execute_result"
    }
   ],
   "source": [
    "# Solution 1\n",
    "chipo.count()\n"
   ]
  },
  {
   "cell_type": "code",
   "execution_count": 5,
   "metadata": {},
   "outputs": [
    {
     "name": "stdout",
     "output_type": "stream",
     "text": [
      "+--------+\n",
      "|count(1)|\n",
      "+--------+\n",
      "|    4622|\n",
      "+--------+\n",
      "\n"
     ]
    }
   ],
   "source": [
    "# Solution 2\n",
    "chipo.createOrReplaceTempView('chipo')\n",
    "spark.sql(\"Select count(*) from chipo\").show()"
   ]
  },
  {
   "cell_type": "markdown",
   "metadata": {},
   "source": [
    "### Step 6. What is the number of columns in the dataset?"
   ]
  },
  {
   "cell_type": "code",
   "execution_count": 6,
   "metadata": {},
   "outputs": [
    {
     "data": {
      "text/plain": [
       "5"
      ]
     },
     "execution_count": 6,
     "metadata": {},
     "output_type": "execute_result"
    }
   ],
   "source": [
    "len(chipo.columns)"
   ]
  },
  {
   "cell_type": "markdown",
   "metadata": {},
   "source": [
    "### Step 7. Print the name of all the columns."
   ]
  },
  {
   "cell_type": "code",
   "execution_count": 7,
   "metadata": {},
   "outputs": [
    {
     "data": {
      "text/plain": [
       "['order_id', 'quantity', 'item_name', 'choice_description', 'item_price']"
      ]
     },
     "execution_count": 7,
     "metadata": {},
     "output_type": "execute_result"
    }
   ],
   "source": [
    "chipo.columns"
   ]
  },
  {
   "cell_type": "markdown",
   "metadata": {},
   "source": [
    "### Step 8. How is the dataset indexed?"
   ]
  },
  {
   "cell_type": "code",
   "execution_count": null,
   "metadata": {},
   "outputs": [],
   "source": []
  },
  {
   "cell_type": "markdown",
   "metadata": {},
   "source": [
    "### Step 9. Which was the most-ordered item? "
   ]
  },
  {
   "cell_type": "code",
   "execution_count": null,
   "metadata": {},
   "outputs": [],
   "source": []
  },
  {
   "cell_type": "code",
   "execution_count": 8,
   "metadata": {},
   "outputs": [
    {
     "data": {
      "text/plain": [
       "[Row(item_name='Chicken Bowl', sum(quantity)=761)]"
      ]
     },
     "execution_count": 8,
     "metadata": {},
     "output_type": "execute_result"
    }
   ],
   "source": [
    "from pyspark.sql.functions import col\n",
    "\n",
    "chipo[['quantity','item_name']].groupBy('item_name').sum('quantity').orderBy(col('sum(quantity)').desc()).take(1)"
   ]
  },
  {
   "cell_type": "markdown",
   "metadata": {},
   "source": [
    "### Step 10. For the most-ordered item, how many items were ordered?"
   ]
  },
  {
   "cell_type": "code",
   "execution_count": 9,
   "metadata": {},
   "outputs": [
    {
     "data": {
      "text/plain": [
       "761"
      ]
     },
     "execution_count": 9,
     "metadata": {},
     "output_type": "execute_result"
    }
   ],
   "source": [
    "chipo[['quantity','item_name']] \\\n",
    "    .groupBy('item_name').sum('quantity') \\\n",
    "    .orderBy(col('sum(quantity)').desc()).take(1)[0]['sum(quantity)']"
   ]
  },
  {
   "cell_type": "markdown",
   "metadata": {},
   "source": [
    "### Step 11. What was the most ordered item in the choice_description column?"
   ]
  },
  {
   "cell_type": "code",
   "execution_count": 10,
   "metadata": {},
   "outputs": [],
   "source": [
    "from pyspark.sql.functions import explode, regexp_replace, split, trim, sum"
   ]
  },
  {
   "cell_type": "code",
   "execution_count": 11,
   "metadata": {},
   "outputs": [
    {
     "data": {
      "text/plain": [
       "[Row(choice='Rice', sum(quantity)=2497)]"
      ]
     },
     "execution_count": 11,
     "metadata": {},
     "output_type": "execute_result"
    }
   ],
   "source": [
    "choice_desc = chipo.select(chipo.choice_description, chipo.quantity).filter(chipo.choice_description!='NULL')\n",
    "\n",
    "choice = choice_desc.withColumn('choice_description', regexp_replace('choice_description','[\\[\\]]', '')) \\\n",
    "    .select(choice_desc.quantity, split(col('choice_description'), ',').alias('choice_array')) \\\n",
    "    .select(choice_desc.quantity, explode(col('choice_array')).alias('choice')) \\\n",
    "    .select(choice_desc.quantity, trim(col('choice')).alias('choice'))\n",
    "\n",
    "choice.groupBy('choice').sum('quantity').orderBy(col('sum(quantity)').desc()).take(1)"
   ]
  },
  {
   "cell_type": "code",
   "execution_count": 12,
   "metadata": {},
   "outputs": [
    {
     "name": "stdout",
     "output_type": "stream",
     "text": [
      "+--------------------+-------------+\n",
      "|  choice_description|sum(quantity)|\n",
      "+--------------------+-------------+\n",
      "|                NULL|         1382|\n",
      "|         [Diet Coke]|          159|\n",
      "|              [Coke]|          143|\n",
      "|            [Sprite]|           89|\n",
      "|[Fresh Tomato Sal...|           49|\n",
      "|[Fresh Tomato Sal...|           42|\n",
      "|[Fresh Tomato Sal...|           40|\n",
      "|          [Lemonade]|           36|\n",
      "|[Fresh Tomato Sal...|           36|\n",
      "|         [Coca Cola]|           32|\n",
      "+--------------------+-------------+\n",
      "only showing top 10 rows\n",
      "\n"
     ]
    }
   ],
   "source": [
    "chipo.select(chipo.choice_description, chipo.quantity) \\\n",
    "    .groupBy('choice_description').sum('quantity') \\\n",
    "    .orderBy(col('sum(quantity)').desc()).show(10)"
   ]
  },
  {
   "cell_type": "markdown",
   "metadata": {},
   "source": [
    "### Step 12. How many items were orderd in total?"
   ]
  },
  {
   "cell_type": "code",
   "execution_count": 13,
   "metadata": {},
   "outputs": [
    {
     "name": "stdout",
     "output_type": "stream",
     "text": [
      "+-------------+\n",
      "|sum(quantity)|\n",
      "+-------------+\n",
      "|         4972|\n",
      "+-------------+\n",
      "\n"
     ]
    }
   ],
   "source": [
    "chipo.select(sum(chipo.quantity)).show()"
   ]
  },
  {
   "cell_type": "markdown",
   "metadata": {},
   "source": [
    "### Step 13. Turn the item price into a float"
   ]
  },
  {
   "cell_type": "markdown",
   "metadata": {},
   "source": [
    "#### Step 13.a. Check the item price type"
   ]
  },
  {
   "cell_type": "code",
   "execution_count": 14,
   "metadata": {},
   "outputs": [
    {
     "data": {
      "text/plain": [
       "('item_price', 'string')"
      ]
     },
     "execution_count": 14,
     "metadata": {},
     "output_type": "execute_result"
    }
   ],
   "source": [
    "chipo.dtypes[4]"
   ]
  },
  {
   "cell_type": "markdown",
   "metadata": {},
   "source": [
    "#### Step 13.b. Create a lambda function and change the type of item price"
   ]
  },
  {
   "cell_type": "code",
   "execution_count": 15,
   "metadata": {},
   "outputs": [],
   "source": [
    "from pyspark.sql.functions import cast\n",
    "from pyspark.sql.types import FloatType"
   ]
  },
  {
   "cell_type": "code",
   "execution_count": 16,
   "metadata": {},
   "outputs": [],
   "source": [
    "chipo = chipo.withColumn('item_price', trim(regexp_replace('item_price','\\$','')).cast(FloatType()))\n",
    "\n",
    "#map(lambda x:Row(x['item_price']))"
   ]
  },
  {
   "cell_type": "markdown",
   "metadata": {},
   "source": [
    "#### Step 13.c. Check the item price type"
   ]
  },
  {
   "cell_type": "code",
   "execution_count": 17,
   "metadata": {},
   "outputs": [
    {
     "data": {
      "text/plain": [
       "[('order_id', 'int'),\n",
       " ('quantity', 'int'),\n",
       " ('item_name', 'string'),\n",
       " ('choice_description', 'string'),\n",
       " ('item_price', 'float')]"
      ]
     },
     "execution_count": 17,
     "metadata": {},
     "output_type": "execute_result"
    }
   ],
   "source": [
    "chipo.dtypes"
   ]
  },
  {
   "cell_type": "markdown",
   "metadata": {},
   "source": [
    "### Step 14. How much was the revenue for the period in the dataset?"
   ]
  },
  {
   "cell_type": "code",
   "execution_count": 18,
   "metadata": {},
   "outputs": [],
   "source": [
    "from pyspark.sql.functions import sum"
   ]
  },
  {
   "cell_type": "code",
   "execution_count": 19,
   "metadata": {},
   "outputs": [
    {
     "data": {
      "text/plain": [
       "[Row(sum((quantity * item_price))=39237.0197327137)]"
      ]
     },
     "execution_count": 19,
     "metadata": {},
     "output_type": "execute_result"
    }
   ],
   "source": [
    "chipo.select(sum(col('quantity')*col('item_price'))).take(10)"
   ]
  },
  {
   "cell_type": "markdown",
   "metadata": {},
   "source": [
    "### Step 15. How many orders were made in the period?"
   ]
  },
  {
   "cell_type": "code",
   "execution_count": 20,
   "metadata": {},
   "outputs": [
    {
     "data": {
      "text/plain": [
       "1834"
      ]
     },
     "execution_count": 20,
     "metadata": {},
     "output_type": "execute_result"
    }
   ],
   "source": [
    "chipo.select(col('order_id')).distinct().count()"
   ]
  },
  {
   "cell_type": "markdown",
   "metadata": {},
   "source": [
    "### Step 16. What is the average revenue amount per order?"
   ]
  },
  {
   "cell_type": "code",
   "execution_count": 21,
   "metadata": {},
   "outputs": [],
   "source": [
    "from pyspark.sql.functions import avg"
   ]
  },
  {
   "cell_type": "code",
   "execution_count": 22,
   "metadata": {},
   "outputs": [
    {
     "name": "stdout",
     "output_type": "stream",
     "text": [
      "+---------------------------------+\n",
      "|avg(sum((quantity * item_price)))|\n",
      "+---------------------------------+\n",
      "|               21.394231042919138|\n",
      "+---------------------------------+\n",
      "\n"
     ]
    }
   ],
   "source": [
    "# Solution 1\n",
    "chipo.select(col('order_id'), col('quantity')*col('item_price')) \\\n",
    "    .groupBy('order_id').sum('(quantity * item_price)') \\\n",
    "    .select(avg(col('sum((quantity * item_price))'))).show()\n"
   ]
  },
  {
   "cell_type": "code",
   "execution_count": 23,
   "metadata": {},
   "outputs": [
    {
     "name": "stdout",
     "output_type": "stream",
     "text": [
      "+------------------+\n",
      "|    avg(sum_price)|\n",
      "+------------------+\n",
      "|21.394231042919138|\n",
      "+------------------+\n",
      "\n"
     ]
    }
   ],
   "source": [
    "# Solution 2\n",
    "chipo.createOrReplaceTempView('chipo')\n",
    "spark.sql('with cte as \\\n",
    "          (select \\\n",
    "              sum(quantity*item_price) as sum_price, \\\n",
    "              order_id \\\n",
    "          from chipo group by order_id) \\\n",
    "          select avg(sum_price) from cte').show()\n"
   ]
  },
  {
   "cell_type": "markdown",
   "metadata": {},
   "source": [
    "### Step 17. How many different items are sold?"
   ]
  },
  {
   "cell_type": "code",
   "execution_count": 24,
   "metadata": {},
   "outputs": [
    {
     "data": {
      "text/plain": [
       "50"
      ]
     },
     "execution_count": 24,
     "metadata": {},
     "output_type": "execute_result"
    }
   ],
   "source": [
    "chipo[['item_name']].distinct().count()"
   ]
  },
  {
   "cell_type": "code",
   "execution_count": null,
   "metadata": {},
   "outputs": [],
   "source": []
  }
 ],
 "metadata": {
  "anaconda-cloud": {},
  "kernelspec": {
   "display_name": "Python 3 (ipykernel)",
   "language": "python",
   "name": "python3"
  },
  "language_info": {
   "codemirror_mode": {
    "name": "ipython",
    "version": 3
   },
   "file_extension": ".py",
   "mimetype": "text/x-python",
   "name": "python",
   "nbconvert_exporter": "python",
   "pygments_lexer": "ipython3",
   "version": "3.10.9"
  }
 },
 "nbformat": 4,
 "nbformat_minor": 1
}
