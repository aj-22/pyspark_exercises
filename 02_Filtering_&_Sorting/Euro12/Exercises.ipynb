{
 "cells": [
  {
   "cell_type": "markdown",
   "metadata": {},
   "source": [
    "# Ex2 - Filtering and Sorting Data"
   ]
  },
  {
   "cell_type": "markdown",
   "metadata": {},
   "source": [
    "This time we are going to pull data directly from the internet.\n",
    "\n",
    "### Step 1. Import the necessary libraries"
   ]
  },
  {
   "cell_type": "code",
   "execution_count": 1,
   "metadata": {},
   "outputs": [],
   "source": [
    "from pyspark.sql import SparkSession\n",
    "spark = SparkSession.builder.appName('MyApp').getOrCreate()"
   ]
  },
  {
   "cell_type": "markdown",
   "metadata": {},
   "source": [
    "### Step 2. Import the dataset from this [address](https://raw.githubusercontent.com/guipsamora/pandas_exercises/master/02_Filtering_%26_Sorting/Euro12/Euro_2012_stats_TEAM.csv). "
   ]
  },
  {
   "cell_type": "markdown",
   "metadata": {},
   "source": [
    "### Step 3. Assign it to a variable called euro12."
   ]
  },
  {
   "cell_type": "code",
   "execution_count": 2,
   "metadata": {},
   "outputs": [],
   "source": [
    "euro12 = spark.read.csv('Euro_2012_stats_TEAM.csv', header=True, inferSchema=True)"
   ]
  },
  {
   "cell_type": "markdown",
   "metadata": {},
   "source": [
    "### Step 4. Select only the Goal column."
   ]
  },
  {
   "cell_type": "code",
   "execution_count": 3,
   "metadata": {},
   "outputs": [
    {
     "name": "stdout",
     "output_type": "stream",
     "text": [
      "+-----+\n",
      "|Goals|\n",
      "+-----+\n",
      "|    4|\n",
      "|    4|\n",
      "|    4|\n",
      "|    5|\n",
      "|    3|\n",
      "|   10|\n",
      "|    5|\n",
      "|    6|\n",
      "|    2|\n",
      "|    2|\n",
      "|    6|\n",
      "|    1|\n",
      "|    5|\n",
      "|   12|\n",
      "|    5|\n",
      "|    2|\n",
      "+-----+\n",
      "\n"
     ]
    }
   ],
   "source": [
    "euro12[['Goals']].show()"
   ]
  },
  {
   "cell_type": "markdown",
   "metadata": {},
   "source": [
    "### Step 5. How many team participated in the Euro2012?"
   ]
  },
  {
   "cell_type": "code",
   "execution_count": 4,
   "metadata": {},
   "outputs": [
    {
     "data": {
      "text/plain": [
       "16"
      ]
     },
     "execution_count": 4,
     "metadata": {},
     "output_type": "execute_result"
    }
   ],
   "source": [
    "euro12[['Team']].distinct().count()"
   ]
  },
  {
   "cell_type": "markdown",
   "metadata": {},
   "source": [
    "### Step 6. What is the number of columns in the dataset?"
   ]
  },
  {
   "cell_type": "code",
   "execution_count": 5,
   "metadata": {},
   "outputs": [
    {
     "data": {
      "text/plain": [
       "35"
      ]
     },
     "execution_count": 5,
     "metadata": {},
     "output_type": "execute_result"
    }
   ],
   "source": [
    "len(euro12.columns)"
   ]
  },
  {
   "cell_type": "markdown",
   "metadata": {},
   "source": [
    "### Step 7. View only the columns Team, Yellow Cards and Red Cards and assign them to a dataframe called discipline"
   ]
  },
  {
   "cell_type": "code",
   "execution_count": 6,
   "metadata": {},
   "outputs": [
    {
     "name": "stdout",
     "output_type": "stream",
     "text": [
      "+-------------------+------------+---------+\n",
      "|               Team|Yellow Cards|Red Cards|\n",
      "+-------------------+------------+---------+\n",
      "|            Croatia|           9|        0|\n",
      "|     Czech Republic|           7|        0|\n",
      "|            Denmark|           4|        0|\n",
      "|            England|           5|        0|\n",
      "|             France|           6|        0|\n",
      "|            Germany|           4|        0|\n",
      "|             Greece|           9|        1|\n",
      "|              Italy|          16|        0|\n",
      "|        Netherlands|           5|        0|\n",
      "|             Poland|           7|        1|\n",
      "|           Portugal|          12|        0|\n",
      "|Republic of Ireland|           6|        1|\n",
      "|             Russia|           6|        0|\n",
      "|              Spain|          11|        0|\n",
      "|             Sweden|           7|        0|\n",
      "|            Ukraine|           5|        0|\n",
      "+-------------------+------------+---------+\n",
      "\n"
     ]
    }
   ],
   "source": [
    "discipline = euro12[['Team','Yellow Cards','Red Cards']]\n",
    "discipline.show()"
   ]
  },
  {
   "cell_type": "markdown",
   "metadata": {},
   "source": [
    "### Step 8. Sort the teams by Red Cards, then to Yellow Cards"
   ]
  },
  {
   "cell_type": "code",
   "execution_count": 7,
   "metadata": {},
   "outputs": [],
   "source": [
    "from pyspark.sql.functions import col"
   ]
  },
  {
   "cell_type": "code",
   "execution_count": 8,
   "metadata": {
    "scrolled": true
   },
   "outputs": [
    {
     "name": "stdout",
     "output_type": "stream",
     "text": [
      "+-------------------+------------+---------+\n",
      "|               Team|Yellow Cards|Red Cards|\n",
      "+-------------------+------------+---------+\n",
      "|             Greece|           9|        1|\n",
      "|             Poland|           7|        1|\n",
      "|Republic of Ireland|           6|        1|\n",
      "|              Italy|          16|        0|\n",
      "|           Portugal|          12|        0|\n",
      "|              Spain|          11|        0|\n",
      "|            Croatia|           9|        0|\n",
      "|     Czech Republic|           7|        0|\n",
      "|             Sweden|           7|        0|\n",
      "|             France|           6|        0|\n",
      "|             Russia|           6|        0|\n",
      "|            England|           5|        0|\n",
      "|        Netherlands|           5|        0|\n",
      "|            Ukraine|           5|        0|\n",
      "|            Denmark|           4|        0|\n",
      "|            Germany|           4|        0|\n",
      "+-------------------+------------+---------+\n",
      "\n"
     ]
    }
   ],
   "source": [
    "discipline.orderBy(col('Red Cards').desc(), col('Yellow Cards').desc()).show(16)"
   ]
  },
  {
   "cell_type": "markdown",
   "metadata": {},
   "source": [
    "### Step 9. Calculate the mean Yellow Cards given per Team"
   ]
  },
  {
   "cell_type": "code",
   "execution_count": 9,
   "metadata": {},
   "outputs": [
    {
     "name": "stdout",
     "output_type": "stream",
     "text": [
      "+-----------------+\n",
      "|avg(Yellow Cards)|\n",
      "+-----------------+\n",
      "|           7.4375|\n",
      "+-----------------+\n",
      "\n"
     ]
    }
   ],
   "source": [
    "discipline[['Yellow Cards']].groupBy().mean().show()"
   ]
  },
  {
   "cell_type": "markdown",
   "metadata": {},
   "source": [
    "### Step 10. Filter teams that scored more than 6 goals"
   ]
  },
  {
   "cell_type": "code",
   "execution_count": 10,
   "metadata": {},
   "outputs": [
    {
     "name": "stdout",
     "output_type": "stream",
     "text": [
      "+-------+-----+\n",
      "|   Team|Goals|\n",
      "+-------+-----+\n",
      "|Germany|   10|\n",
      "|  Spain|   12|\n",
      "+-------+-----+\n",
      "\n"
     ]
    }
   ],
   "source": [
    "euro12[['Team', 'Goals']].where(col('Goals')>6).show()"
   ]
  },
  {
   "cell_type": "markdown",
   "metadata": {},
   "source": [
    "### Step 11. Select the teams that start with G"
   ]
  },
  {
   "cell_type": "code",
   "execution_count": 11,
   "metadata": {},
   "outputs": [],
   "source": [
    "from pyspark.sql.functions import regexp_extract, substring"
   ]
  },
  {
   "cell_type": "code",
   "execution_count": 12,
   "metadata": {},
   "outputs": [
    {
     "name": "stdout",
     "output_type": "stream",
     "text": [
      "+-------+\n",
      "|   Team|\n",
      "+-------+\n",
      "|Germany|\n",
      "| Greece|\n",
      "+-------+\n",
      "\n"
     ]
    }
   ],
   "source": [
    "euro12[['Team']].where(substring(col('Team'), 0,1) == 'G' ).show()"
   ]
  },
  {
   "cell_type": "markdown",
   "metadata": {},
   "source": [
    "### Step 12. Select the first 7 columns"
   ]
  },
  {
   "cell_type": "code",
   "execution_count": 13,
   "metadata": {},
   "outputs": [],
   "source": [
    "col7 = [col if '.' not in col else '`'+col+'`' for col in euro12.columns[:7]]"
   ]
  },
  {
   "cell_type": "code",
   "execution_count": 14,
   "metadata": {},
   "outputs": [
    {
     "name": "stdout",
     "output_type": "stream",
     "text": [
      "+-------------------+-----+---------------+----------------+-----------------+----------------+--------------------------+\n",
      "|               Team|Goals|Shots on target|Shots off target|Shooting Accuracy|% Goals-to-shots|Total shots (inc. Blocked)|\n",
      "+-------------------+-----+---------------+----------------+-----------------+----------------+--------------------------+\n",
      "|            Croatia|    4|             13|              12|            51.9%|           16.0%|                        32|\n",
      "|     Czech Republic|    4|             13|              18|            41.9%|           12.9%|                        39|\n",
      "|            Denmark|    4|             10|              10|            50.0%|           20.0%|                        27|\n",
      "|            England|    5|             11|              18|            50.0%|           17.2%|                        40|\n",
      "|             France|    3|             22|              24|            37.9%|            6.5%|                        65|\n",
      "|            Germany|   10|             32|              32|            47.8%|           15.6%|                        80|\n",
      "|             Greece|    5|              8|              18|            30.7%|           19.2%|                        32|\n",
      "|              Italy|    6|             34|              45|            43.0%|            7.5%|                       110|\n",
      "|        Netherlands|    2|             12|              36|            25.0%|            4.1%|                        60|\n",
      "|             Poland|    2|             15|              23|            39.4%|            5.2%|                        48|\n",
      "|           Portugal|    6|             22|              42|            34.3%|            9.3%|                        82|\n",
      "|Republic of Ireland|    1|              7|              12|            36.8%|            5.2%|                        28|\n",
      "|             Russia|    5|              9|              31|            22.5%|           12.5%|                        59|\n",
      "|              Spain|   12|             42|              33|            55.9%|           16.0%|                       100|\n",
      "|             Sweden|    5|             17|              19|            47.2%|           13.8%|                        39|\n",
      "|            Ukraine|    2|              7|              26|            21.2%|            6.0%|                        38|\n",
      "+-------------------+-----+---------------+----------------+-----------------+----------------+--------------------------+\n",
      "\n"
     ]
    }
   ],
   "source": [
    "euro12[col7].show()"
   ]
  },
  {
   "cell_type": "markdown",
   "metadata": {},
   "source": [
    "### Step 13. Select all columns except the last 3."
   ]
  },
  {
   "cell_type": "code",
   "execution_count": 15,
   "metadata": {},
   "outputs": [],
   "source": [
    "col_expect_last3 = [col if '.' not in col else '`'+col+'`' for col in euro12.columns[:-3]]"
   ]
  },
  {
   "cell_type": "code",
   "execution_count": 16,
   "metadata": {},
   "outputs": [
    {
     "name": "stdout",
     "output_type": "stream",
     "text": [
      "+-------------------+-----+---------------+----------------+-----------------+----------------+--------------------------+------------+-------------+--------------------+------------+------+----------------+----------------+-------+-------+--------+-------------+-------+----------+-------------+-------------------+------------+------+--------------+----------+--------------------+---------+--------------+--------+------------+---------+\n",
      "|               Team|Goals|Shots on target|Shots off target|Shooting Accuracy|% Goals-to-shots|Total shots (inc. Blocked)|Hit Woodwork|Penalty goals|Penalties not scored|Headed goals|Passes|Passes completed|Passing Accuracy|Touches|Crosses|Dribbles|Corners Taken|Tackles|Clearances|Interceptions|Clearances off line|Clean Sheets|Blocks|Goals conceded|Saves made|Saves-to-shots ratio|Fouls Won|Fouls Conceded|Offsides|Yellow Cards|Red Cards|\n",
      "+-------------------+-----+---------------+----------------+-----------------+----------------+--------------------------+------------+-------------+--------------------+------------+------+----------------+----------------+-------+-------+--------+-------------+-------+----------+-------------+-------------------+------------+------+--------------+----------+--------------------+---------+--------------+--------+------------+---------+\n",
      "|            Croatia|    4|             13|              12|            51.9%|           16.0%|                        32|           0|            0|                   0|           2|  1076|             828|           76.9%|   1706|     60|      42|           14|     49|        83|           56|               null|           0|    10|             3|        13|               81.3%|       41|            62|       2|           9|        0|\n",
      "|     Czech Republic|    4|             13|              18|            41.9%|           12.9%|                        39|           0|            0|                   0|           0|  1565|            1223|           78.1%|   2358|     46|      68|           21|     62|        98|           37|                  2|           1|    10|             6|         9|               60.1%|       53|            73|       8|           7|        0|\n",
      "|            Denmark|    4|             10|              10|            50.0%|           20.0%|                        27|           1|            0|                   0|           3|  1298|            1082|           83.3%|   1873|     43|      32|           16|     40|        61|           59|                  0|           1|    10|             5|        10|               66.7%|       25|            38|       8|           4|        0|\n",
      "|            England|    5|             11|              18|            50.0%|           17.2%|                        40|           0|            0|                   0|           3|  1488|            1200|           80.6%|   2440|     58|      60|           16|     86|       106|           72|                  1|           2|    29|             3|        22|               88.1%|       43|            45|       6|           5|        0|\n",
      "|             France|    3|             22|              24|            37.9%|            6.5%|                        65|           1|            0|                   0|           0|  2066|            1803|           87.2%|   2909|     55|      76|           28|     71|        76|           58|                  0|           1|     7|             5|         6|               54.6%|       36|            51|       5|           6|        0|\n",
      "|            Germany|   10|             32|              32|            47.8%|           15.6%|                        80|           2|            1|                   0|           2|  2774|            2427|           87.4%|   3761|    101|      60|           35|     91|        73|           69|                  0|           1|    11|             6|        10|               62.6%|       63|            49|      12|           4|        0|\n",
      "|             Greece|    5|              8|              18|            30.7%|           19.2%|                        32|           1|            1|                   1|           0|  1187|             911|           76.7%|   2016|     52|      53|           10|     65|       123|           87|                  0|           1|    23|             7|        13|               65.1%|       67|            48|      12|           9|        1|\n",
      "|              Italy|    6|             34|              45|            43.0%|            7.5%|                       110|           2|            0|                   0|           2|  3016|            2531|           83.9%|   4363|     75|      75|           30|     98|       137|          136|                  1|           2|    18|             7|        20|               74.1%|      101|            89|      16|          16|        0|\n",
      "|        Netherlands|    2|             12|              36|            25.0%|            4.1%|                        60|           2|            0|                   0|           0|  1556|            1381|           88.7%|   2163|     50|      49|           22|     34|        41|           41|                  0|           0|     9|             5|        12|               70.6%|       35|            30|       3|           5|        0|\n",
      "|             Poland|    2|             15|              23|            39.4%|            5.2%|                        48|           0|            0|                   0|           1|  1059|             852|           80.4%|   1724|     55|      39|           14|     67|        87|           62|                  0|           0|     8|             3|         6|               66.7%|       48|            56|       3|           7|        1|\n",
      "|           Portugal|    6|             22|              42|            34.3%|            9.3%|                        82|           6|            0|                   0|           2|  1891|            1461|           77.2%|   2958|     91|      64|           41|     78|        92|           86|                  0|           2|    11|             4|        10|               71.5%|       73|            90|      10|          12|        0|\n",
      "|Republic of Ireland|    1|              7|              12|            36.8%|            5.2%|                        28|           0|            0|                   0|           1|   851|             606|           71.2%|   1433|     43|      18|            8|     45|        78|           43|                  1|           0|    23|             9|        17|               65.4%|       43|            51|      11|           6|        1|\n",
      "|             Russia|    5|              9|              31|            22.5%|           12.5%|                        59|           2|            0|                   0|           1|  1602|            1345|           83.9%|   2278|     40|      40|           21|     65|        74|           58|                  0|           0|     8|             3|        10|               77.0%|       34|            43|       4|           6|        0|\n",
      "|              Spain|   12|             42|              33|            55.9%|           16.0%|                       100|           0|            1|                   0|           2|  4317|            3820|           88.4%|   5585|     69|     106|           44|    122|       102|           79|                  0|           5|     8|             1|        15|               93.8%|      102|            83|      19|          11|        0|\n",
      "|             Sweden|    5|             17|              19|            47.2%|           13.8%|                        39|           3|            0|                   0|           1|  1192|             965|           80.9%|   1806|     44|      29|            7|     56|        54|           45|                  0|           1|    12|             5|         8|               61.6%|       35|            51|       7|           7|        0|\n",
      "|            Ukraine|    2|              7|              26|            21.2%|            6.0%|                        38|           0|            0|                   0|           2|  1276|            1043|           81.7%|   1894|     33|      26|           18|     65|        97|           29|                  0|           0|     4|             4|        13|               76.5%|       48|            31|       4|           5|        0|\n",
      "+-------------------+-----+---------------+----------------+-----------------+----------------+--------------------------+------------+-------------+--------------------+------------+------+----------------+----------------+-------+-------+--------+-------------+-------+----------+-------------+-------------------+------------+------+--------------+----------+--------------------+---------+--------------+--------+------------+---------+\n",
      "\n"
     ]
    }
   ],
   "source": [
    "euro12[col_expect_last3].show()"
   ]
  },
  {
   "cell_type": "markdown",
   "metadata": {},
   "source": [
    "### Step 14. Present only the Shooting Accuracy from England, Italy and Russia"
   ]
  },
  {
   "cell_type": "code",
   "execution_count": 17,
   "metadata": {},
   "outputs": [],
   "source": [
    "conditions = [col('Team') == country for country in ['England', 'Italy', 'Russia']]"
   ]
  },
  {
   "cell_type": "code",
   "execution_count": 18,
   "metadata": {},
   "outputs": [
    {
     "data": {
      "text/plain": [
       "[Column<'(Team = England)'>,\n",
       " Column<'(Team = Italy)'>,\n",
       " Column<'(Team = Russia)'>]"
      ]
     },
     "execution_count": 18,
     "metadata": {},
     "output_type": "execute_result"
    }
   ],
   "source": [
    "conditions"
   ]
  },
  {
   "cell_type": "code",
   "execution_count": null,
   "metadata": {},
   "outputs": [],
   "source": []
  },
  {
   "cell_type": "code",
   "execution_count": 20,
   "metadata": {},
   "outputs": [
    {
     "name": "stdout",
     "output_type": "stream",
     "text": [
      "+-----------------+-------+\n",
      "|Shooting Accuracy|   Team|\n",
      "+-----------------+-------+\n",
      "|            50.0%|England|\n",
      "|            43.0%|  Italy|\n",
      "|            22.5%| Russia|\n",
      "+-----------------+-------+\n",
      "\n"
     ]
    }
   ],
   "source": [
    "euro12[['Shooting Accuracy', 'Team']].where(conditions[0] | conditions[1] | conditions[2]).show()"
   ]
  },
  {
   "cell_type": "code",
   "execution_count": 21,
   "metadata": {},
   "outputs": [
    {
     "name": "stdout",
     "output_type": "stream",
     "text": [
      "+-------+-----------------+\n",
      "|   Team|Shooting Accuracy|\n",
      "+-------+-----------------+\n",
      "|England|            50.0%|\n",
      "|  Italy|            43.0%|\n",
      "| Russia|            22.5%|\n",
      "+-------+-----------------+\n",
      "\n"
     ]
    }
   ],
   "source": [
    "euro12[['Team','Shooting Accuracy']].where(col('Team').isin(['England','Italy','Russia'])).show()"
   ]
  },
  {
   "cell_type": "code",
   "execution_count": null,
   "metadata": {},
   "outputs": [],
   "source": []
  }
 ],
 "metadata": {
  "anaconda-cloud": {},
  "kernelspec": {
   "display_name": "Python 3 (ipykernel)",
   "language": "python",
   "name": "python3"
  },
  "language_info": {
   "codemirror_mode": {
    "name": "ipython",
    "version": 3
   },
   "file_extension": ".py",
   "mimetype": "text/x-python",
   "name": "python",
   "nbconvert_exporter": "python",
   "pygments_lexer": "ipython3",
   "version": "3.10.9"
  }
 },
 "nbformat": 4,
 "nbformat_minor": 1
}
