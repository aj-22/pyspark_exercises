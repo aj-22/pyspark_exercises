{
 "cells": [
  {
   "cell_type": "markdown",
   "metadata": {},
   "source": [
    "# Ex1 - Filtering and Sorting Data"
   ]
  },
  {
   "cell_type": "markdown",
   "metadata": {},
   "source": [
    "This time we are going to pull data directly from the internet.\n",
    "Special thanks to: https://github.com/justmarkham for sharing the dataset and materials.\n",
    "\n",
    "### Step 1. Import the necessary libraries"
   ]
  },
  {
   "cell_type": "code",
   "execution_count": 1,
   "metadata": {},
   "outputs": [],
   "source": [
    "from pyspark.sql import SparkSession\n",
    "from pyspark import SparkFiles\n",
    "spark = SparkSession.builder.appName('MyApp').getOrCreate()"
   ]
  },
  {
   "cell_type": "markdown",
   "metadata": {},
   "source": [
    "### Step 2. Import the dataset from this [address](https://raw.githubusercontent.com/justmarkham/DAT8/master/data/chipotle.tsv). "
   ]
  },
  {
   "cell_type": "markdown",
   "metadata": {},
   "source": [
    "### Step 3. Assign it to a variable called chipo."
   ]
  },
  {
   "cell_type": "code",
   "execution_count": 2,
   "metadata": {},
   "outputs": [],
   "source": [
    "url=r'https://raw.githubusercontent.com/justmarkham/DAT8/master/data/chipotle.tsv'\n",
    "spark.sparkContext.addFile(url)\n",
    "chipo=spark.read.option('delimiter','\\t') \\\n",
    "    .option('header','true') \\\n",
    "    .option('inferSchema','true') \\\n",
    "    .csv('file:///'+SparkFiles.get('chipotle.tsv'))"
   ]
  },
  {
   "cell_type": "markdown",
   "metadata": {},
   "source": [
    "### Step 4. How many products cost more than $10.00?"
   ]
  },
  {
   "cell_type": "code",
   "execution_count": 7,
   "metadata": {},
   "outputs": [],
   "source": [
    "from pyspark.sql.functions import trim, regexp_replace, cast, col\n",
    "from pyspark.sql.types import FloatType"
   ]
  },
  {
   "cell_type": "code",
   "execution_count": 9,
   "metadata": {},
   "outputs": [
    {
     "data": {
      "text/plain": [
       "1123"
      ]
     },
     "execution_count": 9,
     "metadata": {},
     "output_type": "execute_result"
    }
   ],
   "source": [
    "chipo=chipo.withColumn('item_price_clean', trim(regexp_replace('item_price','\\$','')).cast(FloatType()))\n",
    "chipo.where(col('item_price_clean')>10.00).distinct().count()"
   ]
  },
  {
   "cell_type": "markdown",
   "metadata": {},
   "source": [
    "### Step 5. What is the price of each item? \n",
    "###### print a data frame with only two columns item_name and item_price"
   ]
  },
  {
   "cell_type": "code",
   "execution_count": 11,
   "metadata": {},
   "outputs": [
    {
     "name": "stdout",
     "output_type": "stream",
     "text": [
      "+--------------------+----------+\n",
      "|           item_name|item_price|\n",
      "+--------------------+----------+\n",
      "|    Steak Soft Tacos|    $9.25 |\n",
      "|    Barbacoa Burrito|    $9.25 |\n",
      "|Chips and Mild Fr...|    $3.00 |\n",
      "|       Carnitas Bowl|   $23.50 |\n",
      "|     Chicken Burrito|   $10.58 |\n",
      "|        Chicken Bowl|    $8.49 |\n",
      "|  Chicken Salad Bowl|   $17.50 |\n",
      "|       Bottled Water|    $3.00 |\n",
      "|        Chicken Bowl|    $8.75 |\n",
      "|        Chicken Bowl|   $21.96 |\n",
      "|    Nantucket Nectar|    $6.78 |\n",
      "|Chicken Crispy Tacos|   $10.98 |\n",
      "|Chips and Tomatil...|    $2.39 |\n",
      "|Chips and Fresh T...|   $44.25 |\n",
      "|       Bottled Water|    $4.50 |\n",
      "|      Veggie Burrito|   $33.75 |\n",
      "|     Chicken Burrito|   $16.38 |\n",
      "|         Veggie Bowl|    $8.75 |\n",
      "|Chicken Crispy Tacos|   $11.25 |\n",
      "|Chips and Tomatil...|    $5.90 |\n",
      "+--------------------+----------+\n",
      "only showing top 20 rows\n",
      "\n"
     ]
    }
   ],
   "source": [
    "chipo[['item_name','item_price']].distinct().show()"
   ]
  },
  {
   "cell_type": "markdown",
   "metadata": {},
   "source": [
    "### Step 6. Sort by the name of the item"
   ]
  },
  {
   "cell_type": "code",
   "execution_count": 12,
   "metadata": {},
   "outputs": [
    {
     "name": "stdout",
     "output_type": "stream",
     "text": [
      "+--------+--------+-----------------+------------------+----------+----------------+\n",
      "|order_id|quantity|        item_name|choice_description|item_price|item_price_clean|\n",
      "+--------+--------+-----------------+------------------+----------+----------------+\n",
      "|     511|       1|6 Pack Soft Drink|            [Coke]|    $6.49 |            6.49|\n",
      "|    1253|       1|6 Pack Soft Drink|        [Lemonade]|    $6.49 |            6.49|\n",
      "|     520|       1|6 Pack Soft Drink|          [Sprite]|    $6.49 |            6.49|\n",
      "|     148|       1|6 Pack Soft Drink|       [Diet Coke]|    $6.49 |            6.49|\n",
      "|     566|       1|6 Pack Soft Drink|       [Diet Coke]|    $6.49 |            6.49|\n",
      "|     168|       1|6 Pack Soft Drink|       [Diet Coke]|    $6.49 |            6.49|\n",
      "|     708|       1|6 Pack Soft Drink|            [Coke]|    $6.49 |            6.49|\n",
      "|     230|       1|6 Pack Soft Drink|       [Diet Coke]|    $6.49 |            6.49|\n",
      "|     709|       1|6 Pack Soft Drink|       [Diet Coke]|    $6.49 |            6.49|\n",
      "|     298|       1|6 Pack Soft Drink|          [Nestea]|    $6.49 |            6.49|\n",
      "|     749|       1|6 Pack Soft Drink|            [Coke]|    $6.49 |            6.49|\n",
      "|     363|       1|6 Pack Soft Drink|            [Coke]|    $6.49 |            6.49|\n",
      "|     754|       1|6 Pack Soft Drink|       [Diet Coke]|    $6.49 |            6.49|\n",
      "|     432|       1|6 Pack Soft Drink|            [Coke]|    $6.49 |            6.49|\n",
      "|     774|       1|6 Pack Soft Drink|       [Diet Coke]|    $6.49 |            6.49|\n",
      "|     481|       1|6 Pack Soft Drink|            [Coke]|    $6.49 |            6.49|\n",
      "|     776|       1|6 Pack Soft Drink|            [Coke]|    $6.49 |            6.49|\n",
      "|     849|       1|6 Pack Soft Drink|            [Coke]|    $6.49 |            6.49|\n",
      "|    1248|       1|6 Pack Soft Drink|       [Diet Coke]|    $6.49 |            6.49|\n",
      "|     899|       1|6 Pack Soft Drink|            [Coke]|    $6.49 |            6.49|\n",
      "+--------+--------+-----------------+------------------+----------+----------------+\n",
      "only showing top 20 rows\n",
      "\n"
     ]
    }
   ],
   "source": [
    "chipo.orderBy(col('item_name')).show()"
   ]
  },
  {
   "cell_type": "markdown",
   "metadata": {},
   "source": [
    "### Step 7. What was the quantity of the most expensive item ordered?"
   ]
  },
  {
   "cell_type": "code",
   "execution_count": 21,
   "metadata": {},
   "outputs": [
    {
     "name": "stdout",
     "output_type": "stream",
     "text": [
      "+--------+--------+--------------------+------------------+----------+----------------+\n",
      "|order_id|quantity|           item_name|choice_description|item_price|item_price_clean|\n",
      "+--------+--------+--------------------+------------------+----------+----------------+\n",
      "|    1443|      15|Chips and Fresh T...|              NULL|   $44.25 |           44.25|\n",
      "+--------+--------+--------------------+------------------+----------+----------------+\n",
      "only showing top 1 row\n",
      "\n"
     ]
    }
   ],
   "source": [
    "chipo.orderBy(col('item_price_clean').desc()).show(1)"
   ]
  },
  {
   "cell_type": "markdown",
   "metadata": {},
   "source": [
    "### Step 8. How many times was a Veggie Salad Bowl ordered?"
   ]
  },
  {
   "cell_type": "code",
   "execution_count": 17,
   "metadata": {},
   "outputs": [
    {
     "data": {
      "text/plain": [
       "18"
      ]
     },
     "execution_count": 17,
     "metadata": {},
     "output_type": "execute_result"
    }
   ],
   "source": [
    "chipo.where(col('item_name')=='Veggie Salad Bowl').count()"
   ]
  },
  {
   "cell_type": "markdown",
   "metadata": {},
   "source": [
    "### Step 9. How many times did someone order more than one Canned Soda?"
   ]
  },
  {
   "cell_type": "code",
   "execution_count": 20,
   "metadata": {},
   "outputs": [
    {
     "data": {
      "text/plain": [
       "20"
      ]
     },
     "execution_count": 20,
     "metadata": {},
     "output_type": "execute_result"
    }
   ],
   "source": [
    "chipo.where(col('item_name')=='Canned Soda').where(col('quantity')>1).count()"
   ]
  },
  {
   "cell_type": "code",
   "execution_count": null,
   "metadata": {},
   "outputs": [],
   "source": []
  }
 ],
 "metadata": {
  "kernelspec": {
   "display_name": "Python 3 (ipykernel)",
   "language": "python",
   "name": "python3"
  },
  "language_info": {
   "codemirror_mode": {
    "name": "ipython",
    "version": 3
   },
   "file_extension": ".py",
   "mimetype": "text/x-python",
   "name": "python",
   "nbconvert_exporter": "python",
   "pygments_lexer": "ipython3",
   "version": "3.10.9"
  }
 },
 "nbformat": 4,
 "nbformat_minor": 1
}
